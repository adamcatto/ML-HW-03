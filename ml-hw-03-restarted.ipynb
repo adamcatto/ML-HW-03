{
 "cells": [
  {
   "cell_type": "code",
   "execution_count": 1,
   "metadata": {},
   "outputs": [],
   "source": [
    "import numpy as np\n",
    "import math\n",
    "from collections import Counter\n",
    "from sklearn.datasets import load_digits\n",
    "from sklearn.preprocessing import PolynomialFeatures, OneHotEncoder\n",
    "from sklearn.model_selection import train_test_split\n",
    "import random\n",
    "\n",
    "%matplotlib inline \n",
    "from matplotlib import pyplot as plt"
   ]
  },
  {
   "cell_type": "code",
   "execution_count": null,
   "metadata": {},
   "outputs": [],
   "source": [
    "def softmax(x):\n",
    "    return (np.exp(x.T) / (np.sum(np.exp(x), axis=1))).T \n",
    "\n",
    "\n",
    "def loss_function():\n",
    "    pass\n",
    "\n",
    "\n",
    "def train(x_train, y_train, lr, num_epochs):\n",
    "    #weights = np.ones((x_train.shape[1], 10))\n",
    "    losses = []\n",
    "    weights = np.random.rand(x_train.shape[1], 10)\n",
    "    z = x_train.dot(weights)\n",
    "    s = softmax(z)\n",
    "    #predictions = s.argmax(axis=1)\n",
    "\n",
    "    return weights, losses\n",
    "\n",
    "def predict(x_test, y_test, weights):\n",
    "    z = x_test.dot(weights)\n",
    "    s = softmax(z)\n",
    "    predictions = s.argmax(axis=1)\n",
    "    accuracies = 0\n",
    "    for i, p in enumerate(predictions):\n",
    "        if p == y_test[i]:\n",
    "            accuracies += 1\n",
    "    accuracy = accuraces / len(y_test)\n",
    "    return accuracy\n",
    "\n",
    "\n",
    "train(np.array([[0.1, 0.5],\n",
    "              [1.1, 2.3],\n",
    "              [-1.1, -2.3],\n",
    "              [-1.5, -2.5]]), None, 0,0)\n"
   ]
  }
 ],
 "metadata": {
  "kernelspec": {
   "display_name": "Python 3",
   "language": "python",
   "name": "python3"
  },
  "language_info": {
   "codemirror_mode": {
    "name": "ipython",
    "version": 3
   },
   "file_extension": ".py",
   "mimetype": "text/x-python",
   "name": "python",
   "nbconvert_exporter": "python",
   "pygments_lexer": "ipython3",
   "version": "3.8.3"
  }
 },
 "nbformat": 4,
 "nbformat_minor": 4
}
