{
 "cells": [
  {
   "cell_type": "markdown",
   "metadata": {},
   "source": [
    "# Machine Learning Homework 03\n",
    "\n",
    "## Implementations"
   ]
  },
  {
   "cell_type": "code",
   "execution_count": 16,
   "metadata": {},
   "outputs": [],
   "source": [
    "import numpy as np\n",
    "import math\n",
    "from collections import Counter\n",
    "from sklearn.datasets import load_digits\n",
    "from sklearn.preprocessing import PolynomialFeatures, OneHotEncoder\n",
    "from sklearn.model_selection import train_test_split\n",
    "import random"
   ]
  },
  {
   "cell_type": "code",
   "execution_count": 3,
   "metadata": {},
   "outputs": [],
   "source": [
    "%matplotlib inline "
   ]
  },
  {
   "cell_type": "code",
   "execution_count": 4,
   "metadata": {},
   "outputs": [],
   "source": [
    "from matplotlib import pyplot as plt"
   ]
  },
  {
   "cell_type": "code",
   "execution_count": 3,
   "metadata": {},
   "outputs": [],
   "source": [
    "# sigmoid function\n",
    "def sigmoid(x):\n",
    "    \"\"\"\n",
    "    weights: ndarray\n",
    "    X: ndarray\n",
    "    \"\"\"\n",
    "    return 1 / (1 + np.exp(-x))\n",
    "    \n",
    "\n",
    "def softmax(x):\n",
    "    return np.exp(x) / (np.sum(np.exp(x)) + 0.001) # account for divide by zero error\n",
    "    \n",
    "def predict(s):\n",
    "    if s >= 0:\n",
    "        return True\n",
    "    else:\n",
    "        return False\n",
    "\n",
    "\n",
    "def loss_function(weights, x, y, lr):\n",
    "    num_samples = x.shape[0]\n",
    "    s = softmax(np.matmul(x, weights.T))\n",
    "    #print(y)\n",
    "    #y = OneHotEncoder().fit_transform(y)\n",
    "    #y = np.array([1 if i == y else 0 for i in range(10)]).reshape(1, -1)\n",
    "    #print(y)\n",
    "    #print(y.shape, weights.T.shape, x.shape)\n",
    "    err = np.log(1 + np.exp(np.matmul(y, np.matmul(weights, x.T))))\n",
    "    return err\n",
    "    #return np.log(1 + np.exp(-y_predict * y_actual))\n",
    "    \n",
    "\n",
    "def loss_gradient(weights, x, y, lr):\n",
    "    num_samples = x.shape[0]\n",
    "    s = softmax(np.matmul(x, weights.T))\n",
    "    y = OneHotEncoder().fit_transform(y)\n",
    "    return (1 / num_samples) * (y - s)\n",
    "    \n",
    "\n",
    "def train_(x_train, y_train, lr, num_iters):\n",
    "    weights = np.ones((10, 20))\n",
    "    running_error_rate = []\n",
    "    x_len = len(x_train)\n",
    "    \n",
    "    for i in range(num_iters):\n",
    "        #print(weights)\n",
    "        accuracies = []\n",
    "        total_error = np.zeros(weights.shape)\n",
    "        for j in range(len(x_train)):\n",
    "\n",
    "            x_train_array = np.array(x_train[j]).reshape(1, -1)\n",
    "            ###print(x_train_array.shape)\n",
    "            z = np.matmul(weights, x_train[j])\n",
    "            s = softmax(z)\n",
    "            #print(s)\n",
    "            y_hat = np.argmax(s)\n",
    "            y_hat_array = np.array([1 if i == y_hat else 0 for i in range(10)]).reshape(-1, 1)\n",
    "            \n",
    "            y_actual = np.array([1 if i == y_train[i] else 0 for i in range(10)])\n",
    "            ###print(y_actual.reshape(1, -1).shape)\n",
    "            ###print(y_hat_array.shape)\n",
    "            #print(y_actual.reshape(1, -1).shape)\n",
    "            if y_hat == y_train[i]:\n",
    "                accuracies.append(1)\n",
    "            else:\n",
    "                accuracies.append(0)\n",
    "                total_error += np.abs(np.matmul(y_actual.reshape(-1, 1) - y_hat_array, x_train_array))\n",
    "        #print(total_error)\n",
    "        weights -= lr * total_error / x_len\n",
    "        running_error_rate.append(1 - np.sum(accuracies) / len(accuracies))\n",
    "        #print(accuracies)\n",
    "        \"\"\"\n",
    "        for i, row in enumerate(s):\n",
    "            #print(row.shape)\n",
    "            yhat = np.argmax(row)\n",
    "            y_actual = np.array([1 if i == y_train[i] else 0 for i in range(len(row))])\n",
    "            #print(y_actual.shape)\n",
    "            \n",
    "            if yhat == y_train[i]:\n",
    "                accuracies.append(1)\n",
    "            else:\n",
    "                accuracies.append(0)\n",
    "                weights[y_actual] -= np.transpose(np.array([lr * loss(row, y_actual)]))\n",
    "        running_error_rate.append(1 - np.sum(accuracies) / len(accuracies))\n",
    "        \"\"\"\n",
    "        \n",
    "    return running_error_rate\n",
    "\n",
    "\n",
    "\n",
    "def train(x_train, y_train, lr, num_iters):\n",
    "    weights = np.zeros((10, 20))\n",
    "    losses = []\n",
    "    \n",
    "    #print(weights.shape)\n",
    "    #print(x_train.shape)\n",
    "    for i in range(num_iters):\n",
    "        for j in range(len(x_train)):\n",
    "            x_arr = np.array(x_train[j]).reshape(1, -1)\n",
    "            y_arr = np.array([1 if i == y_train[j] else 0 for i in range(10)]).reshape(1, -1)\n",
    "            #y_arr = np.array(y_train[j]).reshape(1, -1)\n",
    "            #print(x_arr.shape, y_arr.shape)\n",
    "            loss = loss_function(weights, x_arr, y_arr, lr)\n",
    "            gradient = loss_gradient(weights, x_arr, y_arr, lr)\n",
    "            #loss = loss_function(weights, x_train[j], y_train[j], lr)\n",
    "            #gradient = loss_gradient(weights, x_train[j], y_train[j], lr)\n",
    "            \n",
    "            losses.append(loss)\n",
    "            weights -=  lr * gradient.T\n",
    "    #print(losses)\n",
    "    return weights, losses\n",
    "    \n",
    "def predict(x_test, y_test, weights):\n",
    "    yes = 0\n",
    "    for i, x in enumerate(x_test):\n",
    "        y_prob = softmax(np.matmul(weights, np.array(x).reshape(-1, 1)))\n",
    "        y_hat = np.argmax(y_prob)\n",
    "        if y_hat == y_test[i]:\n",
    "            yes += 1\n",
    "    return yes / len(y_test)\n",
    "                           "
   ]
  },
  {
   "cell_type": "code",
   "execution_count": null,
   "metadata": {},
   "outputs": [],
   "source": []
  },
  {
   "cell_type": "code",
   "execution_count": 77,
   "metadata": {},
   "outputs": [],
   "source": [
    "# computing features\n",
    "def compute_x_symmetry(img):\n",
    "    # transform cell (i, j) |--> (i, #cols - j)\n",
    "    img_reflected = np.fliplr(img)\n",
    "    # compute symmetry as magnitude of vector of element-wise difference between matrices\n",
    "    # normalized by max possible pixel intensity\n",
    "    x_symmetry = np.subtract(img, img_reflected) / 16\n",
    "    x_symmetry = np.linalg.norm(x_symmetry.flatten())\n",
    "    return x_symmetry\n",
    "\n",
    "\n",
    "def compute_y_symmetry(img):\n",
    "    # transform cell (i, j) |--> (#rows - i, j)\n",
    "    img_reflected = np.flipud(img)\n",
    "    # compute symmetry as magnitude of vector of element-wise difference between matrices\n",
    "    # normalized by max possible pixel intensity\n",
    "    y_symmetry = np.subtract(img, img_reflected) / 16\n",
    "    y_symmetry = np.linalg.norm(y_symmetry.flatten())\n",
    "    return y_symmetry\n",
    "\n",
    "def compute_density(img):\n",
    "    # density is calculated simply the average of all pixel intensities\n",
    "    density = np.sum(img.flatten()) / 64\n",
    "    return density\n"
   ]
  },
  {
   "cell_type": "markdown",
   "metadata": {},
   "source": [
    "## Experiments with digits dataset – sklearn"
   ]
  },
  {
   "cell_type": "code",
   "execution_count": 78,
   "metadata": {},
   "outputs": [
    {
     "name": "stdout",
     "output_type": "stream",
     "text": [
      "[[ 0.  0.  5. ...  0.  0.  0.]\n",
      " [ 0.  0.  0. ... 10.  0.  0.]\n",
      " [ 0.  0.  0. ... 16.  9.  0.]\n",
      " ...\n",
      " [ 0.  0.  1. ...  6.  0.  0.]\n",
      " [ 0.  0.  2. ... 12.  0.  0.]\n",
      " [ 0.  0. 10. ... 12.  1.  0.]]\n",
      "(1797, 64)\n"
     ]
    }
   ],
   "source": [
    "data = load_digits()\n",
    "print(data.data)\n",
    "print(data.data.shape)"
   ]
  },
  {
   "cell_type": "code",
   "execution_count": 79,
   "metadata": {},
   "outputs": [
    {
     "name": "stdout",
     "output_type": "stream",
     "text": [
      "[0 1 2 ... 8 9 8]\n",
      "(1797,)\n"
     ]
    }
   ],
   "source": [
    "# let's see some of the labels from the list of 1797 labels\n",
    "print(data.target)\n",
    "print(data.target.shape)"
   ]
  },
  {
   "cell_type": "code",
   "execution_count": 80,
   "metadata": {},
   "outputs": [
    {
     "data": {
      "text/plain": [
       "<matplotlib.image.AxesImage at 0x7faf074f8610>"
      ]
     },
     "execution_count": 80,
     "metadata": {},
     "output_type": "execute_result"
    },
    {
     "data": {
      "image/png": "[encoded data removed]",
      "text/plain": [
       "<Figure size 432x288 with 1 Axes>"
      ]
     },
     "metadata": {
      "needs_background": "light"
     },
     "output_type": "display_data"
    }
   ],
   "source": [
    "# let's see what one of the images looks like\n",
    "img1 = data.images[0] # this should be a '0'\n",
    "plt.imshow(img1)"
   ]
  },
  {
   "cell_type": "code",
   "execution_count": 81,
   "metadata": {},
   "outputs": [],
   "source": [
    "def feature_engineering(X_train=data):\n",
    "\n",
    "    # doing feature engineering – compute x symmetries, y symmetries, and density for each image\n",
    "    x_symmetries = {x: 0 for x in range(0, 10)}\n",
    "    y_symmetries = {y: 0 for y in range(0, 10)}\n",
    "    densities = {z: 0 for z in range(0, 10)}\n",
    "\n",
    "    # we will create a list of triples of features (represented as a list (of length 1797) of lists (of length 3))\n",
    "    feature_list = []\n",
    "    \n",
    "    for i, img in enumerate(X_train.images):\n",
    "        rx = compute_x_symmetry(img)\n",
    "        x_symmetries[X_train.target[i]] += rx\n",
    "    \n",
    "        ry = compute_y_symmetry(img)\n",
    "        y_symmetries[X_train.target[i]] += ry\n",
    "    \n",
    "        density = compute_density(img)\n",
    "        densities[X_train.target[i]] += density\n",
    "    \n",
    "        feature_list.append([rx, ry, density])\n",
    "    \n",
    "    feature_array = np.array(feature_list)\n",
    "        \n",
    "    targets_count = Counter(X_train.target)\n",
    "    \n",
    "    for i in range(10):\n",
    "        x_symmetries[i] /= targets_count[i]\n",
    "        y_symmetries[i] /= targets_count[i]\n",
    "        densities[i] /= targets_count[i]\n",
    "        \n",
    "    # we would like to transform this into a 20-dimensional feature space. do this via cubic transform\n",
    "    cubic = PolynomialFeatures(3)\n",
    "    transformed_feature_array = cubic.fit_transform(feature_array)/100\n",
    "    \n",
    "    avg_features = list(zip(x_symmetries.values(), y_symmetries.values(), densities.values()))\n",
    "    avg_features = np.array([np.array([x, y, z]) for (x,y,z) in avg_features])\n",
    "    transformed_avg_features = cubic.fit_transform(avg_features)\n",
    "    \n",
    "    return transformed_avg_features, transformed_feature_array"
   ]
  },
  {
   "cell_type": "code",
   "execution_count": 82,
   "metadata": {},
   "outputs": [],
   "source": [
    "taf, tfa = feature_engineering()"
   ]
  },
  {
   "cell_type": "code",
   "execution_count": 83,
   "metadata": {},
   "outputs": [
    {
     "name": "stdout",
     "output_type": "stream",
     "text": [
      "(1797, 20)\n",
      "(10, 20)\n",
      "[[0.01       0.0143069  0.01198958 ... 0.06603516 0.25301056 0.96939789]\n",
      " [0.01       0.02052057 0.01583607 ... 0.12264771 0.3787706  1.1697501 ]\n",
      " [0.01       0.03511143 0.02616056 ... 0.36785156 0.75579498 1.55287109]\n",
      " ...\n",
      " [0.01       0.01571226 0.01672386 ... 0.16344238 0.57111003 1.99560638]\n",
      " [0.01       0.02270738 0.02888555 ... 0.44847656 0.83452159 1.55287109]\n",
      " [0.01       0.02007797 0.02368412 ... 0.34357422 0.88852453 2.29783203]]\n"
     ]
    }
   ],
   "source": [
    "print(tfa.shape) # 1797 x 20, 20-dimensional feature space\n",
    "print(taf.shape) # 10 x 20\n",
    "print(tfa)"
   ]
  },
  {
   "cell_type": "code",
   "execution_count": 84,
   "metadata": {},
   "outputs": [],
   "source": [
    "learning_rates = [0.0001, 0.001, 0.01, 0.1]"
   ]
  },
  {
   "cell_type": "code",
   "execution_count": 85,
   "metadata": {},
   "outputs": [
    {
     "name": "stdout",
     "output_type": "stream",
     "text": [
      "[9 6 8 ... 8 7 5]\n"
     ]
    }
   ],
   "source": [
    "X_train, X_test, y_train, y_test = train_test_split(tfa, data.target, test_size=0.4)\n",
    "print(y_train)"
   ]
  },
  {
   "cell_type": "code",
   "execution_count": 87,
   "metadata": {},
   "outputs": [
    {
     "name": "stdout",
     "output_type": "stream",
     "text": [
      "0.09735744089012517\n"
     ]
    }
   ],
   "source": [
    "weights, losses = train(X_train, y_train, lr=0.01, num_iters=200)\n",
    "\n",
    "res = predict(X_test, y_test, weights=weights)\n",
    "print(res)"
   ]
  },
  {
   "cell_type": "code",
   "execution_count": null,
   "metadata": {},
   "outputs": [],
   "source": [
    "plt.plot(losses)\n",
    "plt.show()"
   ]
  },
  {
   "cell_type": "code",
   "execution_count": null,
   "metadata": {},
   "outputs": [],
   "source": []
  },
  {
   "cell_type": "code",
   "execution_count": null,
   "metadata": {},
   "outputs": [],
   "source": []
  }
 ],
 "metadata": {
  "kernelspec": {
   "display_name": "Python 3",
   "language": "python",
   "name": "python3"
  },
  "language_info": {
   "codemirror_mode": {
    "name": "ipython",
    "version": 3
   },
   "file_extension": ".py",
   "mimetype": "text/x-python",
   "name": "python",
   "nbconvert_exporter": "python",
   "pygments_lexer": "ipython3",
   "version": "3.8.3"
  }
 },
 "nbformat": 4,
 "nbformat_minor": 4
}
